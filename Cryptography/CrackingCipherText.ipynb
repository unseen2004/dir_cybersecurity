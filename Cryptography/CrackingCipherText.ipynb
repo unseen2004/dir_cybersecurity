{
 "cells": [
  {
   "cell_type": "code",
   "id": "initial_id",
   "metadata": {
    "collapsed": true,
    "jupyter": {
     "is_executing": true
    }
   },
   "source": [
    "import os\n",
    "import binascii\n",
    "\n",
    "def strxor(a, b):     # xor two strings of different lengths\n",
    "    if len(a) > len(b):\n",
    "       return \"\".join([chr(ord(x) ^ ord(y)) for (x, y) in zip(a[:len(b)], b)])\n",
    "    else:\n",
    "       return \"\".join([chr(ord(x) ^ ord(y)) for (x, y) in zip(a, b[:len(a)])])\n",
    "\n",
    "def random(size=16):\n",
    "    return os.urandom(size)\n",
    "\n",
    "def encrypt(key, msg):\n",
    "    c = strxor(key, msg)\n",
    "    return binascii.hexlify(c.encode()).decode()\n",
    "\n",
    "def main():\n",
    "    MSGS = [\n",
    "        \"We can factor the number 15 with quantum computers. We can also factor the number 15 with a dog trained to bark three times - Robert Harley\",\n",
    "        \"The nice thing about Keeyloq is now we cryptographers can drive a lot of fancy cars - Dan Boneh\",\n",
    "        \"The ciphertext produced by a weak encryption algorithm looks as good as ciphertext produced by a strong encryption algorithm - Philip Zimmermann\",\n",
    "        \"You don't want to buy a set of car keys from a guy who specializes in stealing cars - Marc Rotenberg commenting on Clipper\",\n",
    "        \"There are two types of cryptography - that which will keep secrets safe from your little sister and that which will keep secrets safe from your government - Bruce Schneier\",\n",
    "        \"There are two types of cyptography: one that allows the Government to use brute force to break the code, and one that allows the NSA to use brute force to break the code\",\n",
    "        \"The introduction of a key escrow scheme demonstrates that the Government is in control of the encryption standards - Bruce Schneier\",\n",
    "        \"I am continually shocked and appalled at the lack of respect for human rights and the rule of law in some countries - Edward Snowden\",\n",
    "        \"The fact that we can use a free and open-source software such as TOR to protect our privacy on the internet is a true sign of a functioning democracy - Jacob Appelbaum\",\n",
    "        \"The choice between security and privacy is a false dichotomy - Edward Snowden\",\n",
    "        \"You should not be worried about the Government accessing your data, you should be worried about who else is accessing it - Cory Doctorow\"\n",
    "    ]\n",
    "\n",
    "    key = random(1024)\n",
    "    ciphertexts = [encrypt(key, msg) for msg in MSGS]\n",
    "\n",
    "    for i, ct in enumerate(ciphertexts):\n",
    "        print(f\"ciphertext #{i+1}:\\n\\n{ct}\\n\")\n",
    "\n",
    "    with open(\"ciphertexts.txt\", \"w\") as f:\n",
    "        for ct in ciphertexts:\n",
    "            f.write(ct + \"\\n\")\n",
    "\n",
    "if __name__ == \"__main__\":\n",
    "    main()"
   ],
   "outputs": [],
   "execution_count": null
  },
  {
   "metadata": {},
   "cell_type": "code",
   "outputs": [],
   "execution_count": null,
   "source": [
    "import binascii\n",
    "\n",
    "def strxor(a, b):     # xor two strings of different lengths\n",
    "    if len(a) > len(b):\n",
    "       return \"\".join([chr(ord(x) ^ ord(y)) for (x, y) in zip(a[:len(b)], b)])\n",
    "    else:\n",
    "       return \"\".join([chr(ord(x) ^ ord(y)) for (x, y) in zip(a, b[:len(a)])])\n",
    "\n",
    "def hex2str(hex):\n",
    "    return binascii.unhexlify(hex.encode()).decode()\n",
    "\n",
    "def str2hex(string):\n",
    "    return binascii.hexlify(string.encode()).decode()\n",
    "\n",
    "def main():\n",
    "    with open(\"ciphertexts.txt\", \"r\") as f:\n",
    "        ciphertexts = [line.strip() for line in f.readlines()]\n",
    "\n",
    "    target_ciphertext = hex2str(ciphertexts[-1])\n",
    "    ciphertexts_str = [hex2str(ct) for ct in ciphertexts[:-1]]\n",
    "\n",
    "    def xor_with_target(ct):\n",
    "        return strxor(target_ciphertext, ct)\n",
    "\n",
    "    xored_ciphertexts = [xor_with_target(ct) for ct in ciphertexts_str]\n",
    "\n",
    "    for i, xor_ct in enumerate(xored_ciphertexts):\n",
    "        print(f\"XOR with ciphertext #{i+1}: {str2hex(xor_ct)}\")\n",
    "\n",
    "    # Manual analysis to identify spaces and characters\n",
    "    # This part needs human intuition and analysis to identify potential plaintexts\n",
    "    # For example, if we know a space results in ' ', we can deduce other characters\n",
    "\n",
    "if __name__ == \"__main__\":\n",
    "    main()"
   ],
   "id": "454503b6a61913f9"
  }
 ],
 "metadata": {
  "kernelspec": {
   "display_name": "Python 3",
   "language": "python",
   "name": "python3"
  },
  "language_info": {
   "codemirror_mode": {
    "name": "ipython",
    "version": 2
   },
   "file_extension": ".py",
   "mimetype": "text/x-python",
   "name": "python",
   "nbconvert_exporter": "python",
   "pygments_lexer": "ipython2",
   "version": "2.7.6"
  }
 },
 "nbformat": 4,
 "nbformat_minor": 5
}
